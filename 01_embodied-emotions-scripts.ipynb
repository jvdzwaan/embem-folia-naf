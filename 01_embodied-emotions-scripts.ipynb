{
 "cells": [
  {
   "cell_type": "markdown",
   "metadata": {},
   "source": [
    "# Embodied emotions scripts\n",
    "\n",
    "See [github repo](https://github.com/NLeSC/embodied-emotions-scripts)."
   ]
  },
  {
   "cell_type": "markdown",
   "metadata": {},
   "source": [
    "## Step 1: Start jupyter notebooks in docker container\n",
    "\n",
    "I found the original serialized classifier on a backup disk. Create a Docker container in which the classifier can be loaded.\n",
    "\n",
    "Create Docker container (in embodied-emotions-scripts):\n",
    "\n",
    "```sh\n",
    "docker build -t embem .\n",
    "```\n",
    "\n",
    "Run Docker container:\n",
    "\n",
    "```sh\n",
    "docker run -p 8888:8888 --mount type=bind,source=\"$(pwd)\"/,target=/code/embodied-emotions-scripts --mount type=bind,source=/Users/janneke/data/embem,target=/home/jvdzwaan/data/embem --mount type=bind,source=\"$(pwd)\"/../embem-folia-naf/folia,target=/home/jvdzwaan/data/input --mount type=bind,source=\"$(pwd)\"/../embem-folia-naf,target=/home/jvdzwaan/data/output -e PYTHONPATH=/code/embodied-emotions-scripts embem\n",
    "```\n",
    "\n",
    "### Run notebook server\n",
    "\n",
    "jupyter-notebook --ip 0.0.0.0 --port 8888 --allow-root --no-browser\n",
    "\n",
    "### Open notebook server in browser\n",
    "\n",
    "Copy paste token:\n",
    "\n",
    "```\n",
    "http://127.0.0.1:8888/?token=\n",
    "```"
   ]
  },
  {
   "cell_type": "markdown",
   "metadata": {},
   "source": [
    "## Step 2: Create naf files from folia files\n",
    "\n",
    "Open and run notebook `07_run_folia2naf.ipynb`"
   ]
  },
  {
   "cell_type": "markdown",
   "metadata": {},
   "source": [
    "## Step 3: Add emotions layer to naf files\n",
    "\n",
    "Open and run notebook `02b_classify_new_texts.ipynb` (until cell 'Load classifier and do predictions in notebook')"
   ]
  }
 ],
 "metadata": {
  "language_info": {
   "name": "python",
   "pygments_lexer": "ipython3"
  }
 },
 "nbformat": 4,
 "nbformat_minor": 2
}
