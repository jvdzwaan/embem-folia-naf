{
 "cells": [
  {
   "cell_type": "markdown",
   "metadata": {},
   "source": [
    "# Text (TEI) to Folia\n",
    "\n",
    "The original naf files specify libfolia version 0.11 as the processor that created the tokenizations. The [libfolia website](https://github.com/LanguageMachines/libfolia) states: \n",
    "\n",
    "> An API reference or tutorial is currently lacking. Contact us if you're intending to use libfolia and are in need of documentation.\n",
    "\n",
    "Update: it looks like I added the information about libfolia to the naf-files myself. I don't think libfolia was used directly."
   ]
  },
  {
   "cell_type": "markdown",
   "metadata": {},
   "source": [
    "Solution used: \n",
    "\n",
    "1. convert tei to txt using the `tei2txt` bash script\n",
    "2. convert txt to folia using frog installed directly on mac"
   ]
  },
  {
   "cell_type": "code",
   "execution_count": null,
   "metadata": {},
   "outputs": [],
   "source": [
    "%load_ext autoreload\n",
    "%autoreload 2"
   ]
  },
  {
   "cell_type": "markdown",
   "metadata": {},
   "source": [
    "## TEI to txt (to FoLia)"
   ]
  },
  {
   "cell_type": "code",
   "execution_count": null,
   "metadata": {},
   "outputs": [],
   "source": [
    "! mv ~/Downloads/FIEKE\\ ANonimized ~/Downloads/FIEKE_ANonimized"
   ]
  },
  {
   "cell_type": "code",
   "execution_count": null,
   "metadata": {},
   "outputs": [],
   "source": [
    "! ./tei2txt.sh ~/Downloads/FIEKE_ANonimized txt "
   ]
  },
  {
   "cell_type": "markdown",
   "metadata": {},
   "source": [
    "## TEI to FoLia"
   ]
  },
  {
   "cell_type": "code",
   "execution_count": null,
   "metadata": {},
   "outputs": [],
   "source": [
    "! pip install folia-tools"
   ]
  },
  {
   "cell_type": "code",
   "execution_count": null,
   "metadata": {},
   "outputs": [],
   "source": [
    "! tei2folia -h"
   ]
  },
  {
   "cell_type": "markdown",
   "metadata": {},
   "source": [
    "* Download dtd from https://www.dbnl.org/xml/dtd/teixlite.dtd\n",
    "* Add `xmlns=\"http://www.tei-c.org/ns/1.0\"` to `TEI.2` element in input documents (I did it manually) "
   ]
  },
  {
   "cell_type": "code",
   "execution_count": null,
   "metadata": {},
   "outputs": [],
   "source": [
    "! mv ~/Downloads/FIEKE\\ ANonimized ~/Downloads/FIEKE_ANonimized"
   ]
  },
  {
   "cell_type": "code",
   "execution_count": null,
   "metadata": {},
   "outputs": [],
   "source": [
    "! tei2folia ~/Downloads/FIEKE_ANonimized/*.xml -o tmp-folia"
   ]
  },
  {
   "cell_type": "markdown",
   "metadata": {},
   "source": [
    "Only works for ~2 out of 10 files :(\n",
    "\n",
    "In addition: processing these files with folia2naf.py results in empty output (unexpected/new folia tags used?)"
   ]
  },
  {
   "cell_type": "markdown",
   "metadata": {},
   "source": [
    "## Text to FoLia\n",
    "\n",
    "Let's try [frog](https://languagemachines.github.io/frog/)."
   ]
  },
  {
   "cell_type": "code",
   "execution_count": null,
   "metadata": {},
   "outputs": [],
   "source": [
    "! docker pull proycon/frog"
   ]
  },
  {
   "cell_type": "markdown",
   "metadata": {},
   "source": [
    "Start Docker container with mount binds:\n",
    "\n",
    "```sh\n",
    "docker run -p 8080:80 --mount type=bind,source=\"$(pwd)\"/txt,target=/home/lamachine/input --mount type=bind,source=\"$(pwd)\"/folia,target=/home/lamachine/output -t -i proycon/frog\n",
    "```"
   ]
  },
  {
   "cell_type": "markdown",
   "metadata": {},
   "source": [
    "Command to run inside the Docker container:\n",
    "\n",
    "```sh\n",
    "frog --testdir input --xmldir output\n",
    "```"
   ]
  },
  {
   "cell_type": "markdown",
   "metadata": {},
   "source": [
    "In one command (suppress output):\n",
    "\n",
    "```sh\n",
    "docker run -p 8080:80 --mount type=bind,source=\"$(pwd)\"/txt,target=/home/lamachine/input --mount type=bind,source=\"$(pwd)\"/folia,target=/home/lamachine/output -t proycon/frog --testdir /home/lamachine/input --xmldir /home/lamachine/output --nostdout\n",
    "```"
   ]
  },
  {
   "cell_type": "markdown",
   "metadata": {},
   "source": [
    "Frog crashes on the texts, even if you try to frog only oner of them. It is unclead what exactly the problem is.\n",
    "\n",
    "In the end, I installed frog directly on my mac and then it did work. See https://github.com/proycon/python-frog"
   ]
  }
 ],
 "metadata": {
  "language_info": {
   "name": "python",
   "pygments_lexer": "ipython3"
  }
 },
 "nbformat": 4,
 "nbformat_minor": 2
}
