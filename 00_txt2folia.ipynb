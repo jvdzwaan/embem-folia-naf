{
 "cells": [
  {
   "cell_type": "markdown",
   "metadata": {},
   "source": [
    "# Text (TEI) to Folia\n",
    "\n",
    "The original naf files specify libfolia version 0.11 as the processor that created the tokenizations. The [libfolia website](https://github.com/LanguageMachines/libfolia) states: \n",
    "\n",
    "> An API reference or tutorial is currently lacking. Contact us if you're intending to use libfolia and are in need of documentation.\n",
    "\n",
    "So, let's try [frog](https://languagemachines.github.io/frog/) instead."
   ]
  },
  {
   "cell_type": "code",
   "execution_count": null,
   "metadata": {},
   "outputs": [],
   "source": [
    "%load_ext autoreload\n",
    "%autoreload 2"
   ]
  },
  {
   "cell_type": "markdown",
   "metadata": {},
   "source": [
    "Frog and libfolia are part of LaMachine, which comes preinstalled as Docker container."
   ]
  },
  {
   "cell_type": "code",
   "execution_count": null,
   "metadata": {},
   "outputs": [],
   "source": [
    "! docker pull proycon/lamachine"
   ]
  },
  {
   "cell_type": "markdown",
   "metadata": {},
   "source": [
    "Start Docker container with mount binds:\n",
    "\n",
    "```sh\n",
    "docker run -p 8080:80 --mount type=bind,source=\"$(pwd)\"/txt,target=/home/lamachine/input --mount type=bind,source=\"$(pwd)\"/folia,target=/home/lamachine/output -t -i proycon/lamachine\n",
    "```"
   ]
  },
  {
   "cell_type": "markdown",
   "metadata": {},
   "source": [
    "Command to run inside the Docker container:\n",
    "\n",
    "```sh\n",
    "frog --testdir input --xmldir output\n",
    "```"
   ]
  },
  {
   "cell_type": "markdown",
   "metadata": {},
   "source": [
    "In one command (suppress output):\n",
    "\n",
    "```sh\n",
    "docker run -p 8080:80 --mount type=bind,source=\"$(pwd)\"/txt,target=/home/lamachine/input --mount type=bind,source=\"$(pwd)\"/folia,target=/home/lamachine/output -t proycon/lamachine frog --testdir input --xmldir output --nostdout\n",
    "```"
   ]
  }
 ],
 "metadata": {
  "language_info": {
   "name": "python",
   "pygments_lexer": "ipython3"
  }
 },
 "nbformat": 4,
 "nbformat_minor": 2
}
