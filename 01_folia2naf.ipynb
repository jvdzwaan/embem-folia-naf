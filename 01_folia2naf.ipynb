{
 "cells": [
  {
   "cell_type": "markdown",
   "metadata": {},
   "source": [
    "# Folia 2 naf\n",
    "\n",
    "Convert Folia files to naf.\n",
    "\n",
    "There is old code for converting Folia to Naf: [SoNar2Naf](https://github.com/cltl/SoNar2Naf). It was written in Python 2, so let's put in into a Docker container to run it."
   ]
  },
  {
   "cell_type": "markdown",
   "metadata": {},
   "source": [
    "\n",
    "Build container.\n",
    "\n",
    "```sh\n",
    "docker build -t folia2naf .\n",
    "```"
   ]
  },
  {
   "cell_type": "markdown",
   "metadata": {},
   "source": [
    "Run container with mappings for the input and ouput directories:\n",
    "\n",
    "```sh\n",
    "docker run --mount type=bind,source=\"$(pwd)\"/folia,target=/home/folia/input --mount type=bind,source=\"$(pwd)\"/naf,target=/home/folia/output -it folia2naf /bin/bash\n",
    "```"
   ]
  },
  {
   "cell_type": "markdown",
   "metadata": {},
   "source": [
    "The script needed some adaptations, so I created [a fork of the original code](https://github.com/jvdzwaan/SoNar2Naf).\n",
    "\n",
    "Run docker container with editable code from local dev directory:\n",
    "\n",
    "```sh\n",
    "docker run --mount type=bind,source=\"$(pwd)\"/../embem-folia-naf/folia,target=/home/folia/input --mount type=bind,source=\"$(pwd)\"/../embem-folia-naf/naf,target=/home/folia/output --mount type=bind,source=\"$(pwd)\"/,target=/code/SoNar2Naf -it sonar2naf /bin/bash\n",
    "```"
   ]
  },
  {
   "cell_type": "markdown",
   "metadata": {},
   "source": [
    "Command to run conversion script (from the `scripts` directory):\n",
    "\n",
    "```sh\n",
    "python FoliaToNaf.py -i /home/folia/input/input.txt.xml -o /home/folia/output/input.txt.xml.naf -p {http://ilk.uvt.nl/folia}\n",
    "```"
   ]
  }
 ],
 "metadata": {
  "language_info": {
   "name": "python",
   "pygments_lexer": "ipython3"
  }
 },
 "nbformat": 4,
 "nbformat_minor": 2
}
